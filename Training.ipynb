{
 "cells": [
  {
   "cell_type": "code",
   "execution_count": 1,
   "id": "framed-patrol",
   "metadata": {},
   "outputs": [],
   "source": [
    "import pickle"
   ]
  },
  {
   "cell_type": "code",
   "execution_count": 2,
   "id": "dried-secretariat",
   "metadata": {},
   "outputs": [],
   "source": [
    "X = pickle.load(open('X.pkl', 'rb')) # loading preproccesed images\n",
    "y = pickle.load(open('y.pkl', 'rb'))# loading Labels"
   ]
  },
  {
   "cell_type": "code",
   "execution_count": 3,
   "id": "removed-affair",
   "metadata": {},
   "outputs": [
    {
     "data": {
      "text/plain": [
       "array([0, 0, 0, ..., 1, 1, 1])"
      ]
     },
     "execution_count": 3,
     "metadata": {},
     "output_type": "execute_result"
    }
   ],
   "source": [
    "y"
   ]
  },
  {
   "cell_type": "code",
   "execution_count": 4,
   "id": "coordinate-budget",
   "metadata": {},
   "outputs": [],
   "source": [
    "X = X/255 # normalizing images "
   ]
  },
  {
   "cell_type": "code",
   "execution_count": 5,
   "id": "covered-share",
   "metadata": {},
   "outputs": [],
   "source": [
    "X = X.reshape(-1, 100, 100, 1) # reshaping it for CNN"
   ]
  },
  {
   "cell_type": "code",
   "execution_count": 6,
   "id": "handed-active",
   "metadata": {},
   "outputs": [],
   "source": [
    "import tensorflow as tf"
   ]
  },
  {
   "cell_type": "code",
   "execution_count": 7,
   "id": "opened-stand",
   "metadata": {},
   "outputs": [],
   "source": [
    "from tensorflow import keras\n",
    "from tensorflow.keras.models import Sequential\n",
    "from tensorflow.keras.layers import Conv2D, MaxPooling2D, Dense, Flatten\n",
    "from tensorflow.keras.models import Sequential\n",
    "from tensorflow.keras.layers import Dense, Dropout, Flatten\n",
    "from tensorflow.keras.layers import Conv2D,Activation,MaxPooling2D\n"
   ]
  },
  {
   "cell_type": "code",
   "execution_count": 8,
   "id": "caring-inspiration",
   "metadata": {},
   "outputs": [],
   "source": [
    "# Designing CNN\n",
    "model = Sequential()\n",
    "\n",
    "model.add(Conv2D(64, (3,3), activation = 'relu')) \n",
    "model.add(MaxPooling2D((2,2)))\n",
    "\n",
    "model.add(Conv2D(32, (3,3), activation = 'relu'))\n",
    "model.add(MaxPooling2D((2,2)))\n",
    "\n",
    "model.add(Flatten())\n",
    "\n",
    "model.add(Dense(128, input_shape = X.shape[1:], activation = 'relu'))\n",
    "model.add(Dropout(0.5))\n",
    "\n",
    "model.add(Dense(128,activation='relu'))\n",
    "model.add(Dropout(0.5))\n",
    "\n",
    "model.add(Dense(64,activation='relu'))\n",
    "model.add(Dropout(0.5))\n",
    "\n",
    "model.add(Dense(2, activation = 'softmax'))"
   ]
  },
  {
   "cell_type": "code",
   "execution_count": 9,
   "id": "statewide-jason",
   "metadata": {},
   "outputs": [],
   "source": [
    "from sklearn.model_selection import train_test_split\n",
    "\n",
    "train_data,test_data,train_target,test_target=train_test_split(X,y,test_size=0.1)"
   ]
  },
  {
   "cell_type": "code",
   "execution_count": 10,
   "id": "tight-cincinnati",
   "metadata": {},
   "outputs": [],
   "source": [
    "model.compile(optimizer='adam',\n",
    "              loss='sparse_categorical_crossentropy',\n",
    "              metrics=['accuracy'])"
   ]
  },
  {
   "cell_type": "code",
   "execution_count": 11,
   "id": "outside-committee",
   "metadata": {},
   "outputs": [
    {
     "name": "stdout",
     "output_type": "stream",
     "text": [
      "Epoch 1/15\n",
      "647/647 [==============================] - 516s 749ms/step - loss: 0.6790 - accuracy: 0.5647\n",
      "Epoch 2/15\n",
      "647/647 [==============================] - 500s 773ms/step - loss: 0.6136 - accuracy: 0.6775\n",
      "Epoch 3/15\n",
      "647/647 [==============================] - 520s 803ms/step - loss: 0.5516 - accuracy: 0.7253\n",
      "Epoch 4/15\n",
      "647/647 [==============================] - 514s 793ms/step - loss: 0.4983 - accuracy: 0.7638\n",
      "Epoch 5/15\n",
      "647/647 [==============================] - 513s 792ms/step - loss: 0.4377 - accuracy: 0.8017\n",
      "Epoch 6/15\n",
      "647/647 [==============================] - 593s 917ms/step - loss: 0.3751 - accuracy: 0.8393\n",
      "Epoch 7/15\n",
      "647/647 [==============================] - 559s 864ms/step - loss: 0.3117 - accuracy: 0.8725\n",
      "Epoch 8/15\n",
      "647/647 [==============================] - 550s 850ms/step - loss: 0.2614 - accuracy: 0.8986\n",
      "Epoch 9/15\n",
      "647/647 [==============================] - 511s 791ms/step - loss: 0.2037 - accuracy: 0.9206\n",
      "Epoch 10/15\n",
      "647/647 [==============================] - 510s 789ms/step - loss: 0.1737 - accuracy: 0.9345\n",
      "Epoch 11/15\n",
      "647/647 [==============================] - 512s 791ms/step - loss: 0.1526 - accuracy: 0.9453\n",
      "Epoch 12/15\n",
      "647/647 [==============================] - 540s 834ms/step - loss: 0.1301 - accuracy: 0.9531\n",
      "Epoch 13/15\n",
      "647/647 [==============================] - 636s 983ms/step - loss: 0.1171 - accuracy: 0.9573\n",
      "Epoch 14/15\n",
      "647/647 [==============================] - 563s 871ms/step - loss: 0.1076 - accuracy: 0.9622\n",
      "Epoch 15/15\n",
      "647/647 [==============================] - 517s 799ms/step - loss: 0.0998 - accuracy: 0.9638\n"
     ]
    },
    {
     "data": {
      "text/plain": [
       "<keras.callbacks.History at 0x1f67e159e20>"
      ]
     },
     "execution_count": 11,
     "metadata": {},
     "output_type": "execute_result"
    }
   ],
   "source": [
    "model.fit(train_data,train_target,epochs=15)"
   ]
  },
  {
   "cell_type": "code",
   "execution_count": 12,
   "id": "bright-soviet",
   "metadata": {},
   "outputs": [
    {
     "name": "stdout",
     "output_type": "stream",
     "text": [
      "72/72 [==============================] - 28s 172ms/step - loss: 0.9298 - accuracy: 0.7687\n",
      "[0.9297754168510437, 0.7686956524848938]\n"
     ]
    }
   ],
   "source": [
    "print(model.evaluate(test_data,test_target))# evaluate test data"
   ]
  },
  {
   "cell_type": "code",
   "execution_count": 13,
   "id": "aerial-spine",
   "metadata": {},
   "outputs": [
    {
     "name": "stderr",
     "output_type": "stream",
     "text": [
      "WARNING:absl:Found untraced functions such as _jit_compiled_convolution_op, _jit_compiled_convolution_op while saving (showing 2 of 2). These functions will not be directly callable after loading.\n"
     ]
    },
    {
     "name": "stdout",
     "output_type": "stream",
     "text": [
      "INFO:tensorflow:Assets written to: Final_model\\assets\n"
     ]
    },
    {
     "name": "stderr",
     "output_type": "stream",
     "text": [
      "INFO:tensorflow:Assets written to: Final_model\\assets\n"
     ]
    }
   ],
   "source": [
    "model.save(r'Final_model') #saved the  model"
   ]
  },
  {
   "cell_type": "code",
   "execution_count": null,
   "id": "departmental-confidence",
   "metadata": {},
   "outputs": [],
   "source": []
  }
 ],
 "metadata": {
  "kernelspec": {
   "display_name": "Python 3",
   "language": "python",
   "name": "python3"
  },
  "language_info": {
   "codemirror_mode": {
    "name": "ipython",
    "version": 3
   },
   "file_extension": ".py",
   "mimetype": "text/x-python",
   "name": "python",
   "nbconvert_exporter": "python",
   "pygments_lexer": "ipython3",
   "version": "3.8.8"
  }
 },
 "nbformat": 4,
 "nbformat_minor": 5
}
